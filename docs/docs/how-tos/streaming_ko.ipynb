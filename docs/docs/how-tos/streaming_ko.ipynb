{
 "cells": [
  {
   "cell_type": "markdown",
   "id": "76c4b04f-0c03-4321-9d40-38d12c59d088",
   "metadata": {
    "vscode": {
     "languageId": "plaintext"
    }
   },
   "source": [
    "# 스트리밍 방법 (How to stream)"
   ]
  },
  {
   "cell_type": "markdown",
   "id": "15403cdb-441d-43af-a29f-fc15abe03dcc",
   "metadata": {
    "vscode": {
     "languageId": "plaintext"
    }
   },
   "source": [
    "!!! info \"필수 조건 (Prerequisites)\"\n",
    "\n",
    "    이 가이드에서는 다음 사항에 대한 지식이 있다고 가정합니다.\n",
    "    \n",
    "    - [스트리밍 (Streaming)](../../concepts/streaming/)\n",
    "    - [채팅 모델 (Chat Models)](https://python.langchain.com/docs/concepts/chat_models/)\n",
    "\n",
    "스트리밍 (Streaming)은 LLM을 기반으로 구축된 애플리케이션의 반응성을 향상시키는 데 매우 중요합니다. 완전한 응답이 준비되기 전에도 출력을 점진적으로 표시함으로써 스트리밍은 특히 LLM의 대기 시간 (latency)을 처리할 때 사용자 경험 (UX)을 크게 향상시킵니다.\n",
    "\n",
    "LangGraph는 스트리밍을 기본적으로 지원하도록 구축되었습니다. 그래프 실행 (graph run)에서 출력을 스트리밍하는 방법에는 여러 가지가 있습니다.\n",
    "\n",
    "- `\"values\"`: 각 단계 후 상태 (state)의 모든 값을 내보냅니다.\n",
    "- `\"updates\"`: 각 단계 후 노드 이름과 노드에서 반환된 업데이트만 내보냅니다. 동일한 단계에서 여러 업데이트가 수행되는 경우 (예: 여러 노드가 실행되는 경우) 이러한 업데이트는 개별적으로 내보내집니다.\n",
    "- `\"custom\"`: `StreamWriter`를 사용하여 노드 내부에서 사용자 정의 데이터 (custom data)를 내보냅니다.\n",
    "- [`\"messages\"`](../streaming-tokens): 노드 내부의 LLM 호출에 대한 메타데이터 (metadata)와 함께 LLM 메시지를 토큰 (token) 단위로 내보냅니다.\n",
    "- `\"debug\"`: 각 단계에 대한 가능한 많은 정보와 함께 디버그 이벤트 (debug events)를 내보냅니다.\n",
    "\n",
    "`graph.stream(..., stream_mode=<stream_mode>)` 메서드를 사용하여 그래프에서 출력을 스트리밍할 수 있습니다 (예:)\n",
    "\n",
    "=== \"동기 (Sync)\"\n",
    "\n",
    "    ```python\n",
    "    for chunk in graph.stream(inputs, stream_mode=\"updates\"):\n",
    "        print(chunk)\n",
    "    ```\n",
    "\n",
    "=== \"비동기 (Async)\"\n",
    "\n",
    "    ```python\n",
    "    async for chunk in graph.astream(inputs, stream_mode=\"updates\"):\n",
    "        print(chunk)\n",
    "    ```\n",
    "\n",
    "`stream_mode` 매개변수에 목록을 제공하여 여러 스트리밍 모드 (streaming mode)를 결합할 수도 있습니다.\n",
    "\n",
    "=== \"동기 (Sync)\"\n",
    "\n",
    "    ```python\n",
    "    for chunk in graph.stream(inputs, stream_mode=[\"updates\", \"custom\"]):\n",
    "        print(chunk)\n",
    "    ```\n",
    "\n",
    "=== \"비동기 (Async)\"\n",
    "\n",
    "    ```python\n",
    "    async for chunk in graph.astream(inputs, stream_mode=[\"updates\", \"custom\"]):\n",
    "        print(chunk)\n",
    "    ```"
   ]
  },
  {
   "cell_type": "markdown",
   "id": "9723cf76-6fe4-4b52-829f-3f28712ddcb7",
   "metadata": {},
   "source": [
    "## Setup"
   ]
  },
  {
   "cell_type": "code",
   "execution_count": 1,
   "id": "427f8f66-7404-4c7d-a642-af5053b8b28f",
   "metadata": {},
   "outputs": [],
   "source": [
    "%%capture --no-stderr\n",
    "%pip install --quiet -U langgraph langchain_openai"
   ]
  },
  {
   "cell_type": "code",
   "execution_count": 1,
   "id": "03310ce6-e21f-4378-93bf-dd273fdb3e9a",
   "metadata": {},
   "outputs": [],
   "source": [
    "# import getpass\n",
    "# import os\n",
    "\n",
    "\n",
    "# def _set_env(var: str):\n",
    "#     if not os.environ.get(var):\n",
    "#         os.environ[var] = getpass.getpass(f\"{var}: \")\n",
    "\n",
    "\n",
    "# _set_env(\"OPENAI_API_KEY\")"
   ]
  },
  {
   "cell_type": "code",
   "execution_count": 2,
   "id": "11c79002",
   "metadata": {},
   "outputs": [
    {
     "data": {
      "text/plain": [
       "True"
      ]
     },
     "execution_count": 2,
     "metadata": {},
     "output_type": "execute_result"
    }
   ],
   "source": [
    "from dotenv import load_dotenv\n",
    "\n",
    "load_dotenv()\n",
    "\n"
   ]
  },
  {
   "cell_type": "markdown",
   "id": "80399508-bad8-43b7-8ec9-4c06ad1774cc",
   "metadata": {},
   "source": [
    "<div class=\"admonition tip\">\n",
    "    <p class=\"admonition-title\">Set up <a href=\"https://smith.langchain.com\">LangSmith</a> for LangGraph development</p>\n",
    "    <p style=\"padding-top: 5px;\">\n",
    "        Sign up for LangSmith to quickly spot issues and improve the performance of your LangGraph projects. LangSmith lets you use trace data to debug, test, and monitor your LLM apps built with LangGraph — read more about how to get started <a href=\"https://docs.smith.langchain.com\">here</a>. \n",
    "    </p>\n",
    "</div>"
   ]
  },
  {
   "cell_type": "markdown",
   "id": "be4adbb2-61e8-4bb7-942d-b4dc27ba71ac",
   "metadata": {},
   "source": [
    "Let's define a simple graph with two nodes:"
   ]
  },
  {
   "cell_type": "markdown",
   "id": "f6d4c513-1006-4179-bba9-d858fc952169",
   "metadata": {},
   "source": [
    "## 그래프 정의 (Define graph)"
   ]
  },
  {
   "cell_type": "code",
   "execution_count": 3,
   "id": "faeb5ce8-d383-4277-b0a8-322e713638e4",
   "metadata": {},
   "outputs": [],
   "source": [
    "from typing import TypedDict\n",
    "from langgraph.graph import StateGraph, START\n",
    "\n",
    "\n",
    "class State(TypedDict):\n",
    "    topic: str\n",
    "    joke: str\n",
    "\n",
    "\n",
    "def refine_topic(state: State):\n",
    "    return {\"topic\": state[\"topic\"] + \" and cats\"}\n",
    "\n",
    "\n",
    "def generate_joke(state: State):\n",
    "    return {\"joke\": f\"This is a joke about {state['topic']}\"}\n",
    "\n",
    "\n",
    "graph = (\n",
    "    StateGraph(State)\n",
    "    .add_node(refine_topic)\n",
    "    .add_node(generate_joke)\n",
    "    .add_edge(START, \"refine_topic\")\n",
    "    .add_edge(\"refine_topic\", \"generate_joke\")\n",
    "    .compile()\n",
    ")"
   ]
  },
  {
   "cell_type": "markdown",
   "id": "f9b90850-85bf-4391-b6b7-22ad45edaa3b",
   "metadata": {},
   "source": [
    "## 상태의 모든 값 스트리밍 (stream_mode=\"values\") {#values}"
   ]
  },
  {
   "cell_type": "markdown",
   "id": "d1ed60d4-cf78-4d4d-a660-6879539e168f",
   "metadata": {},
   "source": [
    "이것은 각 단계 이후에 상태(state)의 **모든 값**을 스트리밍하는 데 사용됩니다."
   ]
  },
  {
   "cell_type": "code",
   "execution_count": 4,
   "id": "3daca06a-369b-41e5-8e4e-6edc4d4af3a7",
   "metadata": {},
   "outputs": [
    {
     "name": "stdout",
     "output_type": "stream",
     "text": [
      "{'topic': 'ice cream'}\n",
      "{'topic': 'ice cream and cats'}\n",
      "{'topic': 'ice cream and cats', 'joke': 'This is a joke about ice cream and cats'}\n"
     ]
    }
   ],
   "source": [
    "for chunk in graph.stream(\n",
    "    {\"topic\": \"ice cream\"},\n",
    "    # highlight-next-line\n",
    "    stream_mode=\"values\",\n",
    "):\n",
    "    print(chunk)"
   ]
  },
  {
   "cell_type": "markdown",
   "id": "adcb1bdb-f9fa-4d42-87ce-8e25d4290883",
   "metadata": {},
   "source": [
    "## 노드에서 상태 업데이트 스트리밍 (stream_mode=\"updates\") {#updates}"
   ]
  },
  {
   "cell_type": "markdown",
   "id": "44c55326-d077-4583-ae5b-396f45daf21c",
   "metadata": {},
   "source": [
    "이것은 각 단계 이후에 노드에서 반환된 **상태 업데이트**(state updates)만 스트리밍하는 데 사용됩니다. 스트리밍된 출력에는 노드의 이름과 업데이트가 포함됩니다."
   ]
  },
  {
   "cell_type": "code",
   "execution_count": 7,
   "id": "fa3d86b2",
   "metadata": {},
   "outputs": [],
   "source": [
    "result = graph.stream(\n",
    "    {\"topic\": \"ice cream\"},\n",
    "    # highlight-next-line\n",
    "    stream_mode=\"updates\",\n",
    ")"
   ]
  },
  {
   "cell_type": "code",
   "execution_count": 9,
   "id": "8d8e2870",
   "metadata": {},
   "outputs": [],
   "source": [
    "result = list(result)"
   ]
  },
  {
   "cell_type": "code",
   "execution_count": 10,
   "id": "cb8c42b9",
   "metadata": {},
   "outputs": [
    {
     "data": {
      "text/plain": [
       "[{'refine_topic': {'topic': 'ice cream and cats'}},\n",
       " {'generate_joke': {'joke': 'This is a joke about ice cream and cats'}}]"
      ]
     },
     "execution_count": 10,
     "metadata": {},
     "output_type": "execute_result"
    }
   ],
   "source": [
    "result"
   ]
  },
  {
   "cell_type": "code",
   "execution_count": 11,
   "id": "eed7d401-37d1-4d15-b6dd-88956fff89e1",
   "metadata": {},
   "outputs": [
    {
     "name": "stdout",
     "output_type": "stream",
     "text": [
      "{'refine_topic': {'topic': 'ice cream and cats'}}\n",
      "{'generate_joke': {'joke': 'This is a joke about ice cream and cats'}}\n"
     ]
    }
   ],
   "source": [
    "for chunk in graph.stream(\n",
    "    {\"topic\": \"ice cream\"},\n",
    "    # highlight-next-line\n",
    "    stream_mode=\"updates\",\n",
    "):\n",
    "    print(chunk)"
   ]
  },
  {
   "cell_type": "markdown",
   "id": "b9ed9c68-b7c5-4420-945d-84fa33fcf88f",
   "metadata": {},
   "source": [
    "## 디버그 이벤트 스트리밍 (stream_mode=\"debug\") {#debug}"
   ]
  },
  {
   "cell_type": "markdown",
   "id": "94690715-f86c-42f6-be2d-4df82f6f9a96",
   "metadata": {},
   "source": [
    "이것은 각 단계에 대한 가능한 많은 정보를 포함하는 **디버그 이벤트**(debug events)를 스트리밍하는 데 사용됩니다. 여기에는 실행되도록 예약된 작업과 작업 실행 결과에 대한 정보가 포함됩니다."
   ]
  },
  {
   "cell_type": "code",
   "execution_count": 12,
   "id": "cc6354f6-0c39-49cf-a529-b9c6c8713d7c",
   "metadata": {},
   "outputs": [
    {
     "name": "stdout",
     "output_type": "stream",
     "text": [
      "{'type': 'task', 'timestamp': '2025-02-19T07:32:23.809086+00:00', 'step': 1, 'payload': {'id': 'ab2b4f59-1b89-4aa0-412c-7923e99ac8ff', 'name': 'refine_topic', 'input': {'topic': 'ice cream'}, 'triggers': ['start:refine_topic']}}\n",
      "{'type': 'task_result', 'timestamp': '2025-02-19T07:32:23.810077+00:00', 'step': 1, 'payload': {'id': 'ab2b4f59-1b89-4aa0-412c-7923e99ac8ff', 'name': 'refine_topic', 'error': None, 'result': [('topic', 'ice cream and cats')], 'interrupts': []}}\n",
      "{'type': 'task', 'timestamp': '2025-02-19T07:32:23.810226+00:00', 'step': 2, 'payload': {'id': '6a91ea6a-d985-1f90-a92e-97cfdc061816', 'name': 'generate_joke', 'input': {'topic': 'ice cream and cats'}, 'triggers': ['refine_topic']}}\n",
      "{'type': 'task_result', 'timestamp': '2025-02-19T07:32:23.810850+00:00', 'step': 2, 'payload': {'id': '6a91ea6a-d985-1f90-a92e-97cfdc061816', 'name': 'generate_joke', 'error': None, 'result': [('joke', 'This is a joke about ice cream and cats')], 'interrupts': []}}\n"
     ]
    }
   ],
   "source": [
    "for chunk in graph.stream(\n",
    "    {\"topic\": \"ice cream\"},\n",
    "    # highlight-next-line\n",
    "    stream_mode=\"debug\",\n",
    "):\n",
    "    print(chunk)"
   ]
  },
  {
   "cell_type": "markdown",
   "id": "6791da60-0513-43e6-b445-788dd81683bb",
   "metadata": {},
   "source": [
    "## LLM 토큰 스트리밍 ([stream_mode=\"messages\"](../streaming-tokens)) {#messages}"
   ]
  },
  {
   "cell_type": "markdown",
   "id": "1f45d68b-f7ca-4012-96cc-d276a143f571",
   "metadata": {},
   "source": [
    "이를 통해 노드(nodes) 또는 작업(tasks) 내부의 모든 LLM 호출에 대한 메타데이터(metadata)와 함께 **LLM 메시지(messages)를 토큰 단위(token-by-token)**로 스트리밍할 수 있습니다. 위의 예제를 수정하여 LLM 호출을 포함해 보겠습니다."
   ]
  },
  {
   "cell_type": "code",
   "execution_count": 14,
   "id": "efa787e1-be4d-433b-a1af-46a9c99ad8f3",
   "metadata": {},
   "outputs": [],
   "source": [
    "# from langchain_openai import ChatOpenAI\n",
    "from langchain_google_genai import ChatGoogleGenerativeAI\n",
    "\n",
    "# llm = ChatOpenAI(model=\"gpt-4o-mini\")\n",
    "llm = ChatGoogleGenerativeAI(model=\"gemini-2.0-flash-001\")\n",
    "\n",
    "\n",
    "def generate_joke(state: State):\n",
    "    # highlight-next-line\n",
    "    llm_response = llm.invoke(\n",
    "        # highlight-next-line\n",
    "        [\n",
    "            # highlight-next-line\n",
    "            {\"role\": \"user\", \"content\": f\"Generate a joke about {state['topic']}\"}\n",
    "            # highlight-next-line\n",
    "        ]\n",
    "        # highlight-next-line\n",
    "    )\n",
    "    return {\"joke\": llm_response.content}\n",
    "\n",
    "\n",
    "graph = (\n",
    "    StateGraph(State)\n",
    "    .add_node(refine_topic)\n",
    "    .add_node(generate_joke)\n",
    "    .add_edge(START, \"refine_topic\")\n",
    "    .add_edge(\"refine_topic\", \"generate_joke\")\n",
    "    .compile()\n",
    ")"
   ]
  },
  {
   "cell_type": "code",
   "execution_count": 15,
   "id": "e2c1c227",
   "metadata": {},
   "outputs": [
    {
     "data": {
      "image/png": "[encoded data removed]",
      "text/plain": [
       "<IPython.core.display.Image object>"
      ]
     },
     "metadata": {},
     "output_type": "display_data"
    }
   ],
   "source": [
    "from IPython.display import Image, display\n",
    "from langchain_core.runnables.graph import MermaidDrawMethod\n",
    "\n",
    "display(\n",
    "    Image(\n",
    "        graph.get_graph().draw_mermaid_png(\n",
    "            draw_method=MermaidDrawMethod.API,\n",
    "        )\n",
    "    )\n",
    ")"
   ]
  },
  {
   "cell_type": "code",
   "execution_count": 17,
   "id": "c251f809-8922-46ea-bd5b-18264fcc523a",
   "metadata": {},
   "outputs": [
    {
     "name": "stdout",
     "output_type": "stream",
     "text": [
      "Why| did the cat| refuse the ice cream? \n",
      "\n",
      "Because it was purr-izzo! |"
     ]
    }
   ],
   "source": [
    "for message_chunk, metadata in graph.stream(\n",
    "    {\"topic\": \"ice cream\"},\n",
    "    # highlight-next-line\n",
    "    stream_mode=\"messages\",\n",
    "):\n",
    "    if message_chunk.content:\n",
    "        print(message_chunk.content, end=\"|\", flush=True)"
   ]
  },
  {
   "cell_type": "code",
   "execution_count": 18,
   "id": "b1912d72-7b68-4810-8b98-d7f3c35fbb6d",
   "metadata": {},
   "outputs": [
    {
     "data": {
      "text/plain": [
       "{'langgraph_step': 2,\n",
       " 'langgraph_node': 'generate_joke',\n",
       " 'langgraph_triggers': ['refine_topic'],\n",
       " 'langgraph_path': ('__pregel_pull', 'generate_joke'),\n",
       " 'langgraph_checkpoint_ns': 'generate_joke:29363ed3-d4a3-469d-7514-97e45a79c7e4',\n",
       " 'checkpoint_ns': 'generate_joke:29363ed3-d4a3-469d-7514-97e45a79c7e4',\n",
       " 'ls_provider': 'google_genai',\n",
       " 'ls_model_name': 'models/gemini-2.0-flash-001',\n",
       " 'ls_model_type': 'chat',\n",
       " 'ls_temperature': 0.7}"
      ]
     },
     "execution_count": 18,
     "metadata": {},
     "output_type": "execute_result"
    }
   ],
   "source": [
    "metadata"
   ]
  },
  {
   "cell_type": "markdown",
   "id": "0d1ebeda-4498-40e0-a30a-0844cb491425",
   "metadata": {},
   "source": [
    "## 사용자 정의 데이터 스트리밍 (stream_mode=\"custom\") {#custom}"
   ]
  },
  {
   "cell_type": "markdown",
   "id": "e9ca56cc-d36e-4061-b1f6-9ade4e3e00a0",
   "metadata": {},
   "source": [
    "노드 내부에서 [`StreamWriter`][langgraph.types.StreamWriter]를 사용하여 사용자 정의 데이터(custom data)를 스트리밍하려면 다음을 사용하세요."
   ]
  },
  {
   "cell_type": "code",
   "execution_count": 25,
   "id": "e3bf6a2b-afe3-4bd3-8474-57cccd994f23",
   "metadata": {},
   "outputs": [],
   "source": [
    "from langgraph.types import StreamWriter\n",
    "\n",
    "\n",
    "# highlight-next-line\n",
    "def generate_joke(state: State, writer: StreamWriter):\n",
    "    # highlight-next-line\n",
    "    writer({\"custom_key\": \"Writing custom data while generating a joke\"})\n",
    "    return {\"joke\": f\"This is a joke about {state['topic']}\"}\n",
    "\n",
    "\n",
    "graph = (\n",
    "    StateGraph(State)\n",
    "    .add_node(refine_topic)\n",
    "    .add_node(generate_joke)\n",
    "    .add_edge(START, \"refine_topic\")\n",
    "    .add_edge(\"refine_topic\", \"generate_joke\")\n",
    "    .compile()\n",
    ")"
   ]
  },
  {
   "cell_type": "code",
   "execution_count": 26,
   "id": "2ecfb0b0-3311-46f5-9dc8-6c7853373792",
   "metadata": {},
   "outputs": [
    {
     "name": "stdout",
     "output_type": "stream",
     "text": [
      "{'custom_key': 'Writing custom data while generating a joke'}\n"
     ]
    }
   ],
   "source": [
    "for chunk in graph.stream(\n",
    "    {\"topic\": \"ice cream\"},\n",
    "    # highlight-next-line\n",
    "    stream_mode=\"custom\",\n",
    "):\n",
    "    print(chunk)"
   ]
  },
  {
   "cell_type": "markdown",
   "id": "28e67f4d-fcab-46a8-93e2-b7bee30336c1",
   "metadata": {},
   "source": [
    "## 여러 스트리밍 모드 구성 (Configure multiple streaming modes) {#multiple}"
   ]
  },
  {
   "cell_type": "markdown",
   "id": "01ff946a-f38d-42ad-bc71-a2621fab1b6c",
   "metadata": {},
   "source": [
    "여러 스트리밍 모드를 결합하려면 이 기능을 사용하세요. 출력은 튜플 `(stream_mode, streamed_output)` 형태로 스트리밍됩니다."
   ]
  },
  {
   "cell_type": "code",
   "execution_count": 38,
   "id": "bf4cab4b-356c-4276-9035-26974abe1efe",
   "metadata": {},
   "outputs": [
    {
     "name": "stdout",
     "output_type": "stream",
     "text": [
      "Stream mode: updates\n",
      "{'refine_topic': {'topic': 'ice cream and cats'}}\n",
      "\n",
      "\n",
      "Stream mode: custom\n",
      "{'custom_key': 'Writing custom data while generating a joke'}\n",
      "\n",
      "\n",
      "Stream mode: updates\n",
      "{'generate_joke': {'joke': 'This is a joke about ice cream and cats'}}\n",
      "\n",
      "\n"
     ]
    }
   ],
   "source": [
    "for stream_mode, chunk in graph.stream(\n",
    "    {\"topic\": \"ice cream\"},\n",
    "    # highlight-next-line\n",
    "    stream_mode=[\"updates\", \"custom\"],\n",
    "):\n",
    "    print(f\"Stream mode: {stream_mode}\")\n",
    "    print(chunk)\n",
    "    print(\"\\n\")"
   ]
  },
  {
   "cell_type": "code",
   "execution_count": null,
   "id": "3cb0b71b",
   "metadata": {},
   "outputs": [],
   "source": []
  }
 ],
 "metadata": {
  "kernelspec": {
   "display_name": "py11",
   "language": "python",
   "name": "python3"
  },
  "language_info": {
   "codemirror_mode": {
    "name": "ipython",
    "version": 3
   },
   "file_extension": ".py",
   "mimetype": "text/x-python",
   "name": "python",
   "nbconvert_exporter": "python",
   "pygments_lexer": "ipython3",
   "version": "3.11.11"
  }
 },
 "nbformat": 4,
 "nbformat_minor": 5
}
